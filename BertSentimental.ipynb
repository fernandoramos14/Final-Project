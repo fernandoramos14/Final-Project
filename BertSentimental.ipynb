{
 "cells": [
  {
   "cell_type": "markdown",
   "metadata": {},
   "source": [
    "# BERT AND SVM FOR- SPAM DETECTION"
   ]
  },
  {
   "cell_type": "markdown",
   "metadata": {},
   "source": [
    "# 1. Install and Import Dependencies"
   ]
  },
  {
   "cell_type": "markdown",
   "metadata": {},
   "source": [
    "# BERT"
   ]
  },
  {
   "cell_type": "code",
   "execution_count": 20,
   "metadata": {},
   "outputs": [],
   "source": [
    "#pip install --upgrade torch\n"
   ]
  },
  {
   "cell_type": "code",
   "execution_count": 21,
   "metadata": {},
   "outputs": [],
   "source": [
    "#pip install --upgrade transformers safetensors\n"
   ]
  },
  {
   "cell_type": "code",
   "execution_count": 22,
   "metadata": {},
   "outputs": [],
   "source": [
    "import matplotlib.pyplot as plt\n",
    "\n"
   ]
  },
  {
   "cell_type": "code",
   "execution_count": 4,
   "metadata": {},
   "outputs": [],
   "source": [
    "import string\n",
    "import nltk\n",
    "from nltk.stem import PorterStemmer\n",
    "import re\n",
    "import torch\n",
    "from transformers import BertTokenizer, BertModel"
   ]
  },
  {
   "cell_type": "markdown",
   "metadata": {},
   "source": [
    "## BERT"
   ]
  },
  {
   "cell_type": "code",
   "execution_count": 5,
   "metadata": {},
   "outputs": [],
   "source": [
    "import pandas as pd\n",
    "\n",
    "file_path = \"D:/2024/NCI/Semester 3/Practicum 2/GitHub/BERT test/BERTSentiment/spam.csv\" \n",
    "df = pd.read_csv(file_path, encoding=\"latin-1\")\n",
    "#df.head()\n",
    "\n",
    "# Initialize BERT tokenizer and model\n",
    "tokenizer = BertTokenizer.from_pretrained('bert-base-uncased')\n",
    "model = BertModel.from_pretrained('bert-base-uncased')\n",
    "\n",
    "# Function to generate embeddings\n",
    "def get_bert_embeddings(text):\n",
    "    # Tokenize and encode the text\n",
    "    inputs = tokenizer(text, return_tensors='pt', truncation=True, padding=True, max_length=512)\n",
    "    \n",
    "    # Get the BERT output\n",
    "    with torch.no_grad():\n",
    "        outputs = model(**inputs)\n",
    "\n",
    "    # Take the embedding of the [CLS] token\n",
    "    cls_embedding = outputs.last_hidden_state[:, 0, :].squeeze()\n",
    "    return cls_embedding\n",
    "\n",
    "# Generate embeddings for each text in the dataframe\n",
    "df['embeddings'] = df['v2'].apply(get_bert_embeddings)\n",
    "\n"
   ]
  },
  {
   "cell_type": "code",
   "execution_count": 6,
   "metadata": {},
   "outputs": [
    {
     "data": {
      "text/html": [
       "<div>\n",
       "<style scoped>\n",
       "    .dataframe tbody tr th:only-of-type {\n",
       "        vertical-align: middle;\n",
       "    }\n",
       "\n",
       "    .dataframe tbody tr th {\n",
       "        vertical-align: top;\n",
       "    }\n",
       "\n",
       "    .dataframe thead th {\n",
       "        text-align: right;\n",
       "    }\n",
       "</style>\n",
       "<table border=\"1\" class=\"dataframe\">\n",
       "  <thead>\n",
       "    <tr style=\"text-align: right;\">\n",
       "      <th></th>\n",
       "      <th>v2</th>\n",
       "      <th>embeddings</th>\n",
       "    </tr>\n",
       "  </thead>\n",
       "  <tbody>\n",
       "    <tr>\n",
       "      <th>0</th>\n",
       "      <td>Go until jurong point, crazy.. Available only ...</td>\n",
       "      <td>[tensor(-0.1513), tensor(-0.3229), tensor(0.18...</td>\n",
       "    </tr>\n",
       "    <tr>\n",
       "      <th>1</th>\n",
       "      <td>Ok lar... Joking wif u oni...</td>\n",
       "      <td>[tensor(-0.1238), tensor(0.3435), tensor(-0.00...</td>\n",
       "    </tr>\n",
       "    <tr>\n",
       "      <th>2</th>\n",
       "      <td>Free entry in 2 a wkly comp to win FA Cup fina...</td>\n",
       "      <td>[tensor(-0.5031), tensor(-0.2829), tensor(0.57...</td>\n",
       "    </tr>\n",
       "    <tr>\n",
       "      <th>3</th>\n",
       "      <td>U dun say so early hor... U c already then say...</td>\n",
       "      <td>[tensor(0.0646), tensor(0.5769), tensor(0.3411...</td>\n",
       "    </tr>\n",
       "    <tr>\n",
       "      <th>4</th>\n",
       "      <td>Nah I don't think he goes to usf, he lives aro...</td>\n",
       "      <td>[tensor(0.0947), tensor(0.3897), tensor(0.0389...</td>\n",
       "    </tr>\n",
       "    <tr>\n",
       "      <th>...</th>\n",
       "      <td>...</td>\n",
       "      <td>...</td>\n",
       "    </tr>\n",
       "    <tr>\n",
       "      <th>5567</th>\n",
       "      <td>This is the 2nd time we have tried 2 contact u...</td>\n",
       "      <td>[tensor(-0.0725), tensor(0.0551), tensor(0.620...</td>\n",
       "    </tr>\n",
       "    <tr>\n",
       "      <th>5568</th>\n",
       "      <td>Will Ì_ b going to esplanade fr home?</td>\n",
       "      <td>[tensor(-0.0089), tensor(0.1375), tensor(0.270...</td>\n",
       "    </tr>\n",
       "    <tr>\n",
       "      <th>5569</th>\n",
       "      <td>Pity, * was in mood for that. So...any other s...</td>\n",
       "      <td>[tensor(-0.0464), tensor(0.0716), tensor(-0.28...</td>\n",
       "    </tr>\n",
       "    <tr>\n",
       "      <th>5570</th>\n",
       "      <td>The guy did some bitching but I acted like i'd...</td>\n",
       "      <td>[tensor(0.2887), tensor(0.2153), tensor(-0.353...</td>\n",
       "    </tr>\n",
       "    <tr>\n",
       "      <th>5571</th>\n",
       "      <td>Rofl. Its true to its name</td>\n",
       "      <td>[tensor(-0.6254), tensor(0.0154), tensor(0.062...</td>\n",
       "    </tr>\n",
       "  </tbody>\n",
       "</table>\n",
       "<p>5572 rows × 2 columns</p>\n",
       "</div>"
      ],
      "text/plain": [
       "                                                     v2  \\\n",
       "0     Go until jurong point, crazy.. Available only ...   \n",
       "1                         Ok lar... Joking wif u oni...   \n",
       "2     Free entry in 2 a wkly comp to win FA Cup fina...   \n",
       "3     U dun say so early hor... U c already then say...   \n",
       "4     Nah I don't think he goes to usf, he lives aro...   \n",
       "...                                                 ...   \n",
       "5567  This is the 2nd time we have tried 2 contact u...   \n",
       "5568              Will Ì_ b going to esplanade fr home?   \n",
       "5569  Pity, * was in mood for that. So...any other s...   \n",
       "5570  The guy did some bitching but I acted like i'd...   \n",
       "5571                         Rofl. Its true to its name   \n",
       "\n",
       "                                             embeddings  \n",
       "0     [tensor(-0.1513), tensor(-0.3229), tensor(0.18...  \n",
       "1     [tensor(-0.1238), tensor(0.3435), tensor(-0.00...  \n",
       "2     [tensor(-0.5031), tensor(-0.2829), tensor(0.57...  \n",
       "3     [tensor(0.0646), tensor(0.5769), tensor(0.3411...  \n",
       "4     [tensor(0.0947), tensor(0.3897), tensor(0.0389...  \n",
       "...                                                 ...  \n",
       "5567  [tensor(-0.0725), tensor(0.0551), tensor(0.620...  \n",
       "5568  [tensor(-0.0089), tensor(0.1375), tensor(0.270...  \n",
       "5569  [tensor(-0.0464), tensor(0.0716), tensor(-0.28...  \n",
       "5570  [tensor(0.2887), tensor(0.2153), tensor(-0.353...  \n",
       "5571  [tensor(-0.6254), tensor(0.0154), tensor(0.062...  \n",
       "\n",
       "[5572 rows x 2 columns]"
      ]
     },
     "execution_count": 6,
     "metadata": {},
     "output_type": "execute_result"
    }
   ],
   "source": [
    "df[['v2', 'embeddings']]\n",
    "#df.to_csv( \"D:/2024/NCI/Semester 3/Practicum 2/GitHub/BERT test/BERTSentiment/embeddings.csv\" )"
   ]
  },
  {
   "cell_type": "markdown",
   "metadata": {},
   "source": [
    "# SVM + BERT"
   ]
  },
  {
   "cell_type": "code",
   "execution_count": null,
   "metadata": {},
   "outputs": [
    {
     "name": "stdout",
     "output_type": "stream",
     "text": [
      "[[-0.15130727 -0.3229222   0.18984713 ... -0.50618005  0.63785505\n",
      "   0.5440413 ]\n",
      " [-0.12379777  0.34354404 -0.00094409 ... -0.2943518   0.31472555\n",
      "   0.5676157 ]\n",
      " [-0.50309676 -0.28293917  0.57477814 ... -0.20974316  0.28015417\n",
      "   0.6524728 ]\n",
      " ...\n",
      " [-0.0463751   0.07157721 -0.2811311  ... -0.44609916  0.69265306\n",
      "   0.49261114]\n",
      " [ 0.2887196   0.21530673 -0.35321572 ... -0.30588982  0.02576478\n",
      "   0.05279774]\n",
      " [-0.62542605  0.01535252  0.06213274 ... -0.31538567  0.53805614\n",
      "   0.7060135 ]] [0 0 1 ... 0 0 0]\n",
      "              precision    recall  f1-score   support\n",
      "\n",
      "           0       0.99      0.99      0.99       965\n",
      "           1       0.95      0.96      0.96       150\n",
      "\n",
      "    accuracy                           0.99      1115\n",
      "   macro avg       0.97      0.98      0.98      1115\n",
      "weighted avg       0.99      0.99      0.99      1115\n",
      "\n"
     ]
    }
   ],
   "source": [
    "from sklearn import svm\n",
    "from sklearn.model_selection import train_test_split\n",
    "from sklearn.metrics import classification_report\n",
    "import numpy as np\n",
    "\n",
    "# Convert labels to numerical values (e.g., \"ham\" -> 0, \"spam\" -> 1)\n",
    "df['label'] = df['v1'].apply(lambda x: 1 if x == 'spam' else 0)\n",
    "\n",
    "# Convert embeddings to a 2D array format\n",
    "X = np.array([embedding.numpy() for embedding in df['embeddings']])\n",
    "y = df['label'].values\n",
    "\n",
    "#print(X, y)\n",
    "\n",
    "# Split the data into training and testing sets\n",
    "X_train, X_test, y_train, y_test = train_test_split(X, y, test_size=0.2, random_state=42)\n",
    "\n",
    "# Initialize and train the SVM classifier\n",
    "svm_model = svm.SVC(C=1.0, kernel='linear', degree=3, gamma='auto',class_weight='balanced' )\n",
    "svm_model.fit(X_train, y_train)\n",
    "\n",
    "# Make predictions on the test set\n",
    "y_pred = svm_model.predict(X_test)\n",
    "\n",
    "# Evaluate the model\n",
    "print(classification_report(y_test, y_pred))\n"
   ]
  },
  {
   "cell_type": "code",
   "execution_count": null,
   "metadata": {},
   "outputs": [
    {
     "name": "stdout",
     "output_type": "stream",
     "text": [
      "Collecting matplotlibNote: you may need to restart the kernel to use updated packages.\n"
     ]
    },
    {
     "name": "stderr",
     "output_type": "stream",
     "text": [
      "  WARNING: The scripts fonttools.exe, pyftmerge.exe, pyftsubset.exe and ttx.exe are installed in 'c:\\Python3.8\\Scripts' which is not on PATH.\n",
      "  Consider adding this directory to PATH or, if you prefer to suppress this warning, use --no-warn-script-location.\n",
      "WARNING: You are using pip version 19.2.3, however version 24.3.1 is available.\n",
      "You should consider upgrading via the 'python -m pip install --upgrade pip' command.\n"
     ]
    },
    {
     "name": "stdout",
     "output_type": "stream",
     "text": [
      "\n",
      "  Using cached https://files.pythonhosted.org/packages/16/51/58b0b9de42fe1e665736d9286f88b5f1556a0e22bed8a71f468231761083/matplotlib-3.7.5-cp38-cp38-win_amd64.whl\n",
      "Collecting seaborn\n",
      "  Downloading https://files.pythonhosted.org/packages/83/11/00d3c3dfc25ad54e731d91449895a79e4bf2384dc3ac01809010ba88f6d5/seaborn-0.13.2-py3-none-any.whl (294kB)\n",
      "Requirement already satisfied: python-dateutil>=2.7 in c:\\python3.8\\lib\\site-packages (from matplotlib) (2.9.0.post0)\n",
      "Requirement already satisfied: pyparsing>=2.3.1 in c:\\python3.8\\lib\\site-packages (from matplotlib) (2.4.7)\n",
      "Requirement already satisfied: numpy<2,>=1.20 in c:\\python3.8\\lib\\site-packages (from matplotlib) (1.24.4)\n",
      "Requirement already satisfied: pillow>=6.2.0 in c:\\python3.8\\lib\\site-packages (from matplotlib) (10.4.0)\n",
      "Collecting fonttools>=4.22.0 (from matplotlib)\n",
      "  Using cached https://files.pythonhosted.org/packages/75/7f/3c4e038998d2a54b282d605f6aaac4c596c49d55add3adc6559a735bb4cb/fonttools-4.54.1-cp38-cp38-win_amd64.whl\n",
      "Requirement already satisfied: packaging>=20.0 in c:\\python3.8\\lib\\site-packages (from matplotlib) (20.9)\n",
      "Requirement already satisfied: importlib-resources>=3.2.0; python_version < \"3.10\" in c:\\python3.8\\lib\\site-packages (from matplotlib) (5.10.2)\n",
      "Collecting cycler>=0.10 (from matplotlib)\n",
      "  Using cached https://files.pythonhosted.org/packages/e7/05/c19819d5e3d95294a6f5947fb9b9629efb316b96de511b418c53d245aae6/cycler-0.12.1-py3-none-any.whl\n",
      "Collecting contourpy>=1.0.1 (from matplotlib)\n",
      "  Using cached https://files.pythonhosted.org/packages/96/1b/b05cd42c8d21767a0488b883b38658fb9a45f86c293b7b42521a8113dc5d/contourpy-1.1.1-cp38-cp38-win_amd64.whl\n",
      "Collecting kiwisolver>=1.0.1 (from matplotlib)\n",
      "  Using cached https://files.pythonhosted.org/packages/52/77/7e04cca2ff1dc6ee6b7654cebe233de72b7a3ec5616501b6f3144fb70740/kiwisolver-1.4.7-cp38-cp38-win_amd64.whl\n",
      "Requirement already satisfied: pandas>=1.2 in c:\\python3.8\\lib\\site-packages (from seaborn) (2.0.3)\n",
      "Requirement already satisfied: six>=1.5 in c:\\python3.8\\lib\\site-packages (from python-dateutil>=2.7->matplotlib) (1.16.0)\n",
      "Requirement already satisfied: zipp>=3.1.0; python_version < \"3.10\" in c:\\python3.8\\lib\\site-packages (from importlib-resources>=3.2.0; python_version < \"3.10\"->matplotlib) (3.12.1)\n",
      "Requirement already satisfied: pytz>=2020.1 in c:\\python3.8\\lib\\site-packages (from pandas>=1.2->seaborn) (2022.7.1)\n",
      "Requirement already satisfied: tzdata>=2022.1 in c:\\python3.8\\lib\\site-packages (from pandas>=1.2->seaborn) (2022.7)\n",
      "Installing collected packages: fonttools, cycler, contourpy, kiwisolver, matplotlib, seaborn\n",
      "Successfully installed contourpy-1.1.1 cycler-0.12.1 fonttools-4.54.1 kiwisolver-1.4.7 matplotlib-3.7.5 seaborn-0.13.2\n"
     ]
    }
   ],
   "source": [
    "# pip install matplotlib seaborn\n"
   ]
  },
  {
   "cell_type": "markdown",
   "metadata": {},
   "source": [
    "## CONFUSION MATRIX"
   ]
  },
  {
   "cell_type": "code",
   "execution_count": 18,
   "metadata": {},
   "outputs": [
    {
     "name": "stdout",
     "output_type": "stream",
     "text": [
      "              precision    recall  f1-score   support\n",
      "\n",
      "           0       0.99      0.99      0.99       965\n",
      "           1       0.95      0.96      0.96       150\n",
      "\n",
      "    accuracy                           0.99      1115\n",
      "   macro avg       0.97      0.98      0.98      1115\n",
      "weighted avg       0.99      0.99      0.99      1115\n",
      "\n"
     ]
    },
    {
     "data": {
      "image/png": "[encoded data removed]",
      "text/plain": [
       "<Figure size 576x432 with 2 Axes>"
      ]
     },
     "metadata": {
      "needs_background": "light"
     },
     "output_type": "display_data"
    }
   ],
   "source": [
    "from sklearn.metrics import classification_report, confusion_matrix\n",
    "import matplotlib.pyplot as plt\n",
    "import seaborn as sns\n",
    "\n",
    "# Make predictions on the test set\n",
    "y_pred = svm_model.predict(X_test)\n",
    "\n",
    "# Evaluate the model\n",
    "print(classification_report(y_test, y_pred))\n",
    "\n",
    "# Generate the confusion matrix\n",
    "conf_matrix = confusion_matrix(y_test, y_pred)\n",
    "\n",
    "# Plot the confusion matrix\n",
    "plt.figure(figsize=(8, 6))\n",
    "sns.heatmap(conf_matrix, annot=True, fmt=\"d\", cmap=\"Blues\", xticklabels=['Ham', 'Spam'], yticklabels=['Ham', 'Spam'])\n",
    "plt.xlabel(\"Predicted Labels\")\n",
    "plt.ylabel(\"True Labels\")\n",
    "plt.title(\"Confusion Matrix\")\n",
    "plt.show()\n"
   ]
  },
  {
   "cell_type": "markdown",
   "metadata": {},
   "source": [
    "## SVM Traditional Technique"
   ]
  },
  {
   "cell_type": "code",
   "execution_count": 19,
   "metadata": {},
   "outputs": [
    {
     "name": "stderr",
     "output_type": "stream",
     "text": [
      "[nltk_data] Downloading package stopwords to\n",
      "[nltk_data]     C:\\Users\\Fernando\\AppData\\Roaming\\nltk_data...\n",
      "[nltk_data]   Package stopwords is already up-to-date!\n"
     ]
    },
    {
     "name": "stdout",
     "output_type": "stream",
     "text": [
      "Naive Bayes Accuracy Score ->  97.13004484304932\n",
      "SVM Accuracy Score ->  98.02690582959642\n"
     ]
    },
    {
     "data": {
      "text/plain": [
       "array([1])"
      ]
     },
     "execution_count": 19,
     "metadata": {},
     "output_type": "execute_result"
    }
   ],
   "source": [
    "df = pd.read_csv(file_path, encoding=\"latin-1\")\n",
    "df= df[['v1', 'v2']]\n",
    "df= df.rename(columns = {'v1': 'label', 'v2': 'text'})\n",
    "#df.info()\n",
    "#df.head()\n",
    "# # 2. Cleaning data\n",
    "#1. Removing Punctuation\n",
    "import string\n",
    "string.punctuation\n",
    "def remove_punctuation(txt):\n",
    "    txt_nopunct=\"\".join([c for c in txt if c not in string.punctuation])\n",
    "    return txt_nopunct\n",
    "df['newtext']=df['text'].apply(lambda x: remove_punctuation(x))\n",
    "#Show top 10 messages with puncuation removed. Output is a , seperated list\n",
    "df.head(10)['newtext'].values\n",
    "#df.head()\n",
    "\n",
    "#2. tokenisation of data\n",
    "import re\n",
    "def tokenize(txt):\n",
    "    tokens=re.split('\\W+', txt)\n",
    "    return tokens\n",
    "#convert to lower case\n",
    "df['token_text']=df['newtext'].apply(lambda x: tokenize(x.lower()))\n",
    "df.head()\n",
    "\n",
    "#3. remove stop words\n",
    "import nltk\n",
    "nltk.download('stopwords')\n",
    "stopwords=nltk.corpus.stopwords.words('english')\n",
    "def remove_stopwords(tokenize):\n",
    "    clean=[word for word in tokenize if word not in stopwords]\n",
    "    return clean\n",
    "df['stop_clean']=df['token_text'].apply(lambda x: remove_stopwords(x))\n",
    "#df.head()\n",
    "\n",
    "#4. stemming\n",
    "from nltk.stem import PorterStemmer\n",
    "ps=PorterStemmer()\n",
    "def stemming(txt):\n",
    "    words=[ps.stem(word) for word in txt]\n",
    "    return words\n",
    "df['stem_words']=df['stop_clean'].apply(lambda x: stemming(x))\n",
    "df.head()\n",
    "#5. lemmatisation\n",
    "def lammatization(txt):\n",
    "    lam=[wn.lammetize(word) for word in txt]\n",
    "    return lam\n",
    "df['lam_words']=df['stem_words'].apply(lambda x: stemming(x))\n",
    "df.head()\n",
    "#as our \"lam_words column is column of lists, and not text.\n",
    "#Tfidf Vectoriser works on text so convert this column into string\"\n",
    "df['lam_words']=[\" \".join(review) for review in df['lam_words'].values]\n",
    "\n",
    "# # 3. split data into sets\n",
    "from sklearn import model_selection, naive_bayes, svm\n",
    "Train_X, Test_X, Train_Y, Test_Y = model_selection.train_test_split(df['lam_words'],df['label'],test_size=0.2)\n",
    "# # 4. encoding\n",
    "from sklearn.preprocessing import LabelEncoder\n",
    "Encoder = LabelEncoder()\n",
    "Train_Y = Encoder.fit_transform(Train_Y)\n",
    "Test_Y = Encoder.fit_transform(Test_Y)\n",
    "# # 5. Word Vectorisation\n",
    "from sklearn.feature_extraction.text import TfidfVectorizer\n",
    "Tfidf_vect = TfidfVectorizer(max_features=5000)\n",
    "Tfidf_vect.fit(df['lam_words'])\n",
    "Train_X_Tfidf = Tfidf_vect.transform(Train_X)\n",
    "Test_X_Tfidf = Tfidf_vect.transform(Test_X)\n",
    "#print(Tfidf_vect.vocabulary_)\n",
    "#print(Train_X_Tfidf)\n",
    "# # 6. Use the ML Algorithms to Predict the outcome\n",
    "\n",
    "# 1.Naive Bayes Classifier\n",
    "from sklearn import model_selection, naive_bayes, svm\n",
    "from sklearn.metrics import accuracy_score\n",
    "# fit the training dataset on the NB classifier\n",
    "Naive = naive_bayes.MultinomialNB()\n",
    "Naive.fit(Train_X_Tfidf,Train_Y)\n",
    "# predict the labels on validation dataset\n",
    "predictions_NB = Naive.predict(Test_X_Tfidf)\n",
    "# Use accuracy_score function to get the accuracy\n",
    "print(\"Naive Bayes Accuracy Score -> \",accuracy_score(predictions_NB, Test_Y)*100)\n",
    "# 2. Support Vector Machine\n",
    "\n",
    "# fit the training dataset on the classifier\n",
    "SVM = svm.SVC(C=1.0, kernel='linear', degree=3, gamma='auto', class_weight='balanced' )\n",
    "SVM.fit(Train_X_Tfidf,Train_Y)\n",
    "\n",
    "# predict the labels on validation dataset\n",
    "predictions_SVM = SVM.predict(Test_X_Tfidf)\n",
    "# Use accuracy_score function to get the accuracy\n",
    "print(\"SVM Accuracy Score -> \",accuracy_score(predictions_SVM, Test_Y)*100)\n",
    "#Lets try some test data\n",
    "test = [\"free entry\"]\n",
    "X_test=Tfidf_vect.transform(test)\n",
    "SVM.predict(X_test)\n",
    "#test1 = [\"is that how you spell his name\"]\n",
    "#X_test1=Tfidf_vect.transform(test1)\n",
    "#SVM.predict(X_test1)\n"
   ]
  },
  {
   "cell_type": "code",
   "execution_count": 20,
   "metadata": {},
   "outputs": [
    {
     "name": "stdout",
     "output_type": "stream",
     "text": [
      "              precision    recall  f1-score   support\n",
      "\n",
      "           0       0.98      0.99      0.99       969\n",
      "           1       0.96      0.89      0.92       146\n",
      "\n",
      "    accuracy                           0.98      1115\n",
      "   macro avg       0.97      0.94      0.96      1115\n",
      "weighted avg       0.98      0.98      0.98      1115\n",
      "\n"
     ]
    }
   ],
   "source": [
    "# Make predictions on the test set\n",
    "y_pred = SVM.predict(Test_X_Tfidf)\n",
    "\n",
    "# Evaluate the model\n",
    "print(classification_report(Test_Y, y_pred))\n"
   ]
  }
 ],
 "metadata": {
  "kernelspec": {
   "display_name": "Python 3",
   "language": "python",
   "name": "python3"
  },
  "language_info": {
   "codemirror_mode": {
    "name": "ipython",
    "version": 3
   },
   "file_extension": ".py",
   "mimetype": "text/x-python",
   "name": "python",
   "nbconvert_exporter": "python",
   "pygments_lexer": "ipython3",
   "version": "3.8.0"
  }
 },
 "nbformat": 4,
 "nbformat_minor": 2
}
